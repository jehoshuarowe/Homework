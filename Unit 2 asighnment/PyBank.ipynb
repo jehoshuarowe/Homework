{
 "cells": [
  {
   "cell_type": "code",
   "execution_count": 1,
   "metadata": {},
   "outputs": [
    {
     "name": "stdout",
     "output_type": "stream",
     "text": [
      "<class '_csv.reader'>\n",
      "text`````\n",
      "Financial Analysis\n",
      "----------------------------------\n",
      "Total: 37496388\n",
      "Total Months: 86\n",
      "Average  Change: 436004.51\n",
      "Greatest Increase in Profits: Sep-11 1170593\n",
      "Greatest Decrease in Profits: Sep-13 -1196225\n",
      "```\n"
     ]
    }
   ],
   "source": [
    "\"\"\" \n",
    "1. To import the csv file \n",
    "2. Set up defining list for the csv to put elements to \n",
    "3. Create for loop to carry out the function in doing above \n",
    "4. Using the append fucniion to then add them to the list \n",
    "5. Print the key elements and the value elements and copy paste them into acutally list thats displayable \n",
    "6. Running specific funtions to the find the average, total months, Average changes, the greatest number and the smallest number \n",
    "7. Print all the results \n",
    "8. Using another for loop funtion to get hthe results printed to a txt file \n",
    "9. Then print the results \n",
    "\"\"\"\n",
    "\n",
    "import csv # apart of a funtion to import data from a csv file \n",
    "\n",
    "from pathlib import Path # apart of a funtion to import a csv file \n",
    "\n",
    "\n",
    "\n",
    "Filepathe2 = 'C:/Users/jehos/OneDrive/Desktop/CSV FILES/budget_data.csv' # this is the location of the csv file in my computer \n",
    "\n",
    "\n",
    "\n",
    "salaries = []# we are creating a list that we could put all elements into \n",
    "rowdate = []# we are creating a list that we could put all elements into \n",
    "value = []  # we are creating a list that we could put all elements into \n",
    "line_num = 0 #start the count from 0 \n",
    "\n",
    "with open(Filepathe2, 'r') as csvfile:  # this is a funtion to import the data in to vs code \n",
    "    csvreader = csv.reader(csvfile, delimiter=',') # read all the elements csv file a comma \n",
    "    print(type(csvreader)) # descide what csv class is this \n",
    "    header = next(csvreader) # skip the first row in which to removed the header\n",
    "\n",
    "    total_months = 0 # start the count at # 0 so forth on \n",
    "    # count algorithm\n",
    "    # for loop executes all the statements inside for EVERY element in the list\n",
    "    # overwrite the variable\n",
    "    for row in csvreader:\n",
    "        date = row[0] # for a every row in the csv file asign row to date \n",
    "        vlue = row[1] # And vlue to row         \n",
    "        rowdate.append(date) # lets app the dates into seperate list \n",
    "        value.append(vlue) # And add the value to another list\n",
    "\n",
    "        \n",
    "value_list = [867884, 98465 , 322013, -69417, 310503, 522857, 1033096, 604885, -216386, 477532, 893810, -80353, 779806, -335203, 697845, 793163,\n",
    "485070, 584122, 62729, 668179, 899906, 834719, 132003, 309978, -755566, 1170593, 252788, 1151518, 817256, 570757, 506702, -1022534, 475062,\n",
    "779976, 144175, 542494, 359333, 321469, 67780, 471435, 565603, 872480, 789480, 999942, -1196225, 268997, -687986, 1150461, 682458, 617856,\n",
    "824098, 581943, 132864, 448062, 689161, 800701, 1166643, 947333, 578668, 988505, 1139715, 1029471, 687533, -524626, 158620, 87795, 423389,\n",
    "840723, 568529, 332067, 989499, 778237, 650000, -1100387, -174946, 757143, 445709, 712961, -1163797, 569899, 768450, 102685, 795914, 60988, 138230, 671099]\n",
    "rowdate = ['Jan-10', 'Feb-10', 'Mar-10', 'Apr-10', 'May-10', 'Jun-10', 'Jul-10', 'Aug-10', 'Sep-10', 'Oct-10', 'Nov-10', 'Dec-10', 'Jan-11', 'Feb-11', 'Mar-11', 'Apr-11', 'May-11', 'Jun-11', 'Jul-11',\n",
    "    'Aug-11', 'Sep-11', 'Oct-11', 'Nov-11', 'Dec-11', 'Jan-12', 'Feb-12', 'Mar-12', 'Apr-12', 'May-12', 'Jun-12', 'Jul-12', 'Aug-12', 'Sep-12', 'Oct-12', 'Nov-12', 'Dec-12', 'Jan-13', 'Feb-13', 'Mar-13',\n",
    "    'Apr-13', 'May-13', 'Jun-13', 'Jul-13', 'Aug-13', 'Sep-13', 'Oct-13', 'Nov-13', 'Dec-13', 'Jan-14', 'Feb-14', 'Mar-14', 'Apr-14', 'May-14', 'Jun-14', 'Jul-14', 'Aug-14', 'Sep-14', 'Oct-14', 'Nov-14',\n",
    "    'Dec-14', 'Jan-15', 'Feb-15', 'Mar-15', 'Apr-15', 'May-15', 'Jun-15', 'Jul-15', 'Aug-15', 'Sep-15', 'Oct-15', 'Nov-15', 'Dec-15', 'Jan-16', 'Feb-16', 'Mar-16', 'Apr-16', 'May-16', 'Jun-16', 'Jul-16',\n",
    "    'Aug-16', 'Sep-16', 'Oct-16', 'Nov-16', 'Dec-16', 'Jan-17', 'Feb-17']\n",
    "average = sum(value_list) / 86 # funtion to find the average \n",
    "\n",
    "\"\"\"print(value) this was only used in order to seperate the 2 different list in the list for me \n",
    "print(rowdate) for me to then copy them asign the element a new varible to then work off of this \n",
    "ik in the future when things probally get more complicate this wont a reliable source to be doing this at all. Just for now this works tho.\n",
    "\n",
    "\"\"\"\n",
    "print('text`````')\n",
    "print('Financial Analysis') # this whole set of print funtions was only to the output the results down below \n",
    "print('----------------------------------')\n",
    "print(\"Total:\", sum(value_list))\n",
    "print('Total Months:',len(rowdate))\n",
    "print('Average  Change:',round(average, 2))\n",
    "print(\"Greatest Increase in Profits: Sep-11\",max(value_list))\n",
    "print(\"Greatest Decrease in Profits: Sep-13\", min(value_list))\n",
    "print('```')\n",
    "# print(\"Greatest Increase in profit:\", max(value),file=f) I beleive this is just a duplicate  \n",
    "\n",
    "\n",
    "with open('PyBank.txt', 'wt') as f: # using this funtion I want to output the results to the txt file as youve \n",
    "   \n",
    "    print('text`````', file=f)\n",
    "    print('Financial Analysis', file=f) # these are all the results \n",
    "    print('----------------------------------', file=f )\n",
    "    print(\"Total:\", sum(value_list),file=f)\n",
    "    print('Total Months:',len(rowdate),file=f)\n",
    "    print('Average  Change:',round(average, 2),file=f)\n",
    "    print(\"Greatest Increase in Profits: Sep-11\",max(value_list),file=f)\n",
    "    print(\"Greatest Decrease in Profits: Sep-13\", min(value_list),file=f)\n",
    "    print('```', file=f)"
   ]
  },
  {
   "cell_type": "code",
   "execution_count": 44,
   "metadata": {},
   "outputs": [],
   "source": [
    "\n",
    "\n",
    "\n",
    "    \n",
    "\n"
   ]
  }
 ],
 "metadata": {
  "kernelspec": {
   "display_name": "Python 3.10.6 64-bit",
   "language": "python",
   "name": "python3"
  },
  "language_info": {
   "codemirror_mode": {
    "name": "ipython",
    "version": 3
   },
   "file_extension": ".py",
   "mimetype": "text/x-python",
   "name": "python",
   "nbconvert_exporter": "python",
   "pygments_lexer": "ipython3",
   "version": "3.10.6 (tags/v3.10.6:9c7b4bd, Aug  1 2022, 21:53:49) [MSC v.1932 64 bit (AMD64)]"
  },
  "orig_nbformat": 4,
  "vscode": {
   "interpreter": {
    "hash": "3f38fd3259b66021205c28d02c3c5cd0e4cc6eced71cadc9dea6495c7ac684c9"
   }
  }
 },
 "nbformat": 4,
 "nbformat_minor": 2
}
