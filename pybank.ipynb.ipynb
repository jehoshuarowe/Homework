{
 "cells": [
  {
   "cell_type": "code",
   "execution_count": 30,
   "metadata": {},
   "outputs": [
    {
     "name": "stdout",
     "output_type": "stream",
     "text": [
      "<class '_csv.reader'>\n",
      "['Jan-10', 'Feb-10', 'Mar-10', 'Apr-10', 'May-10', 'Jun-10', 'Jul-10', 'Aug-10', 'Sep-10', 'Oct-10', 'Nov-10', 'Dec-10', 'Jan-11', 'Feb-11', 'Mar-11', 'Apr-11', 'May-11', 'Jun-11', 'Jul-11', 'Aug-11', 'Sep-11', 'Oct-11', 'Nov-11', 'Dec-11', 'Jan-12', 'Feb-12', 'Mar-12', 'Apr-12', 'May-12', 'Jun-12', 'Jul-12', 'Aug-12', 'Sep-12', 'Oct-12', 'Nov-12', 'Dec-12', 'Jan-13', 'Feb-13', 'Mar-13', 'Apr-13', 'May-13', 'Jun-13', 'Jul-13', 'Aug-13', 'Sep-13', 'Oct-13', 'Nov-13', 'Dec-13', 'Jan-14', 'Feb-14', 'Mar-14', 'Apr-14', 'May-14', 'Jun-14', 'Jul-14', 'Aug-14', 'Sep-14', 'Oct-14', 'Nov-14', 'Dec-14', 'Jan-15', 'Feb-15', 'Mar-15', 'Apr-15', 'May-15', 'Jun-15', 'Jul-15', 'Aug-15', 'Sep-15', 'Oct-15', 'Nov-15', 'Dec-15', 'Jan-16', 'Feb-16', 'Mar-16', 'Apr-16', 'May-16', 'Jun-16', 'Jul-16', 'Aug-16', 'Sep-16', 'Oct-16', 'Nov-16', 'Dec-16', 'Jan-17', 'Feb-17']\n",
      "['867884', '984655', '322013', '-69417', '310503', '522857', '1033096', '604885', '-216386', '477532', '893810', '-80353', '779806', '-335203', '697845', '793163', '485070', '584122', '62729', '668179', '899906', '834719', '132003', '309978', '-755566', '1170593', '252788', '1151518', '817256', '570757', '506702', '-1022534', '475062', '779976', '144175', '542494', '359333', '321469', '67780', '471435', '565603', '872480', '789480', '999942', '-1196225', '268997', '-687986', '1150461', '682458', '617856', '824098', '581943', '132864', '448062', '689161', '800701', '1166643', '947333', '578668', '988505', '1139715', '1029471', '687533', '-524626', '158620', '87795', '423389', '840723', '568529', '332067', '989499', '778237', '650000', '-1100387', '-174946', '757143', '445709', '712961', '-1163797', '569899', '768450', '102685', '795914', '60988', '138230', '671099']\n",
      "0\n",
      "86\n"
     ]
    }
   ],
   "source": [
    "import csv # apart of a funtion to import data from a csv file \n",
    "\n",
    "from pathlib import Path # apart of a funtion to import a csv file \n",
    "\n",
    "\n",
    "Filepathe2 = 'C:/Users/jehos/OneDrive/Desktop/CSV FILES/budget_data.csv' # this is the location of the csv file \n",
    "\n",
    "\n",
    "\n",
    "salaries = [] # i dont knwo what this is for \n",
    "rowdate = []\n",
    "value = []\n",
    "line_num = 0 # i dont knwo what this is for \n",
    "\n",
    "with open(Filepathe2, 'r') as csvfile:  # this is a funtion to import the data in to vs code \n",
    "    csvreader = csv.reader(csvfile, delimiter=',') # read all the elements csv file a comma \n",
    "    print(type(csvreader)) # descide what csv class is this \n",
    "    header = next(csvreader) # skip the first row to which weve removed the header \n",
    "\n",
    "    total_months = 0 # start the count at # 1\n",
    "    # count algorithm\n",
    "    # for loop executes all the statements inside for EVERY element in the list\n",
    "    # overwrite the variable\n",
    "    for row in csvreader:\n",
    "        date = row[0]  # for a every row in the csv file asign row to date \n",
    "        vlue = row[1] # and vlue to row \n",
    "        rowdate.append(date) # lets app the dates into seperate list \n",
    "        value.append(vlue) # and add the value to another list \n",
    "\n",
    "    print(rowdate) # printing the result \n",
    "    print(value) # printing the result \n",
    "    # after the for lop ends the rest of the code continues\n",
    "    print(total_months) \n",
    "    print(len(rowdate))\n",
    "    \n",
    "\n",
    "\n",
    "\n"
   ]
  },
  {
   "cell_type": "code",
   "execution_count": null,
   "metadata": {},
   "outputs": [],
   "source": []
  },
  {
   "cell_type": "code",
   "execution_count": null,
   "metadata": {},
   "outputs": [],
   "source": []
  }
 ],
 "metadata": {
  "kernelspec": {
   "display_name": "Python 3.10.6 64-bit",
   "language": "python",
   "name": "python3"
  },
  "language_info": {
   "codemirror_mode": {
    "name": "ipython",
    "version": 3
   },
   "file_extension": ".py",
   "mimetype": "text/x-python",
   "name": "python",
   "nbconvert_exporter": "python",
   "pygments_lexer": "ipython3",
   "version": "3.10.6"
  },
  "orig_nbformat": 4,
  "vscode": {
   "interpreter": {
    "hash": "3f38fd3259b66021205c28d02c3c5cd0e4cc6eced71cadc9dea6495c7ac684c9"
   }
  }
 },
 "nbformat": 4,
 "nbformat_minor": 2
}
